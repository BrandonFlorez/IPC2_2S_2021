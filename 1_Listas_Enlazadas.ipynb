{
  "nbformat": 4,
  "nbformat_minor": 0,
  "metadata": {
    "colab": {
      "name": "1.Listas Enlazadas.ipynb",
      "provenance": [],
      "authorship_tag": "ABX9TyPAJ/MaQFsh9EhtRnDl8fuK",
      "include_colab_link": true
    },
    "kernelspec": {
      "name": "python3",
      "display_name": "Python 3"
    }
  },
  "cells": [
    {
      "cell_type": "markdown",
      "metadata": {
        "id": "view-in-github",
        "colab_type": "text"
      },
      "source": [
        "<a href=\"https://colab.research.google.com/github/BrandonFlorez/IPC2_2S_2021/blob/main/1_Listas_Enlazadas.ipynb\" target=\"_parent\"><img src=\"https://colab.research.google.com/assets/colab-badge.svg\" alt=\"Open In Colab\"/></a>"
      ]
    },
    {
      "cell_type": "markdown",
      "metadata": {
        "id": "uMVR2FRCzZ9-"
      },
      "source": [
        ""
      ]
    },
    {
      "cell_type": "markdown",
      "metadata": {
        "id": "UwE4VONGt33b"
      },
      "source": [
        "##**LIstas Enlazadas**\n",
        "**Definición de la clase Estudiante**"
      ]
    },
    {
      "cell_type": "code",
      "metadata": {
        "id": "0HVFHgszT0in"
      },
      "source": [
        "class estudiante: \n",
        "  def __init__(self, carne, nombre, edad, direccion, telefono, email, carrera, puesto):\n",
        "    self.carne = carne\n",
        "    self.nombre = nombre\n",
        "    self.edad = edad\n",
        "    self.direccion = direccion\n",
        "    self.telefon = telefono\n",
        "    self.email = email\n",
        "    self.carrera = carrera\n",
        "    self.puesto = puesto"
      ],
      "execution_count": null,
      "outputs": []
    },
    {
      "cell_type": "markdown",
      "metadata": {
        "id": "DYYzJUwPzmCv"
      },
      "source": [
        "**Definición de la clase Nodo**"
      ]
    },
    {
      "cell_type": "code",
      "metadata": {
        "id": "rYW4_Tq8zbN4"
      },
      "source": [
        "class nodo:\n",
        "  def __init__(self,estudiante = None, siguiente = None):\n",
        "    self.estudiante = estudiante\n",
        "    self.siguiente = siguiente\n",
        "    "
      ],
      "execution_count": null,
      "outputs": []
    },
    {
      "cell_type": "markdown",
      "metadata": {
        "id": "evOk3xY329tJ"
      },
      "source": [
        "**Definición de Clase Lista Enlazada**"
      ]
    },
    {
      "cell_type": "code",
      "metadata": {
        "id": "CJaJrIxR0aqi"
      },
      "source": [
        "class lista_enlazada:\n",
        "  def __init__(self):\n",
        "    self.primero = None \n",
        "\n",
        "  def insertar(self, estudiante):\n",
        "    if self.primero is None:\n",
        "      self.primero = nodo(estudiante=estudiante)\n",
        "      return \n",
        "    actual = self.primero\n",
        "    while actual.siguiente:\n",
        "      actual = actual.siguiente\n",
        "    actual.siguiente = nodo(estudiante = estudiante)\n",
        "\n",
        "\n",
        "  def recorrer(self):\n",
        "    actual = self.primero\n",
        "    while actual != None:\n",
        "      print('Carne: ',actual.estudiante.carne, ' Nombre: ', actual.estudiante.nombre, ' email: ', actual.estudiante.email, '-->')\n",
        "      actual = actual.siguiente\n",
        "\n",
        "\n",
        "  def eliminar(self, carne):\n",
        "    actual = self.primero\n",
        "    anterior = None\n",
        "\n",
        "    while actual and actual.estudiante.carne != carne:\n",
        "      anterior = actual\n",
        "      actual = actual.siguiente\n",
        "\n",
        "    if anterior is None:\n",
        "      self.primero = actual.siguiente\n",
        "      actual.siguiente = None\n",
        "    elif actual:\n",
        "      anterior.siguiente = actual.siguiente\n",
        "      actual.siguiente = None\n",
        "\n",
        "  def busqueda(self, carne):\n",
        "    actual = self.primero\n",
        "    \n",
        "    while actual and actual.estudiante.carne != carne:\n",
        "      actual = actual.siguiente\n",
        "\n",
        "    print('Carne: ',actual.estudiante.carne,' Nombre: ',actual.estudiante.nombre, 'email: ',actual.estudiante.email)\n"
      ],
      "execution_count": null,
      "outputs": []
    },
    {
      "cell_type": "markdown",
      "metadata": {
        "id": "0YqCU815sj3v"
      },
      "source": [
        "**Creacion de objeto Estudiante**\n"
      ]
    },
    {
      "cell_type": "code",
      "metadata": {
        "id": "u6PqocC9sm1G"
      },
      "source": [
        "e1 = estudiante(2018073855, 'Michelle España', 24, 'Zona 2 ', 24245555, 'Micheleespana@gmail.com', 'Ingenieria en Sistemas', 'Programadora')\n",
        "e2 = estudiante(201807385, 'Karen Hurtarte', 25, 'Zona 3 ', 159635445, 'Karen@gmail.com', 'Ingenieria en Sistemas', 'TI')\n",
        "e3 = estudiante(2018073857, 'Alison Silvestre', 23, 'Zona 1 ', 12345687, 'Alison@gmail.com', 'Ingenieria en Sistemas', 'Programadora')"
      ],
      "execution_count": null,
      "outputs": []
    },
    {
      "cell_type": "markdown",
      "metadata": {
        "id": "INGlks_YtWQ7"
      },
      "source": [
        "**Inserción**"
      ]
    },
    {
      "cell_type": "code",
      "metadata": {
        "id": "0Uj5IxNbtav4"
      },
      "source": [
        "lista_e = lista_enlazada()\n",
        "lista_e.insertar(e1)\n",
        "lista_e.insertar(e2)\n",
        "lista_e.insertar(e3)"
      ],
      "execution_count": null,
      "outputs": []
    },
    {
      "cell_type": "markdown",
      "metadata": {
        "id": "_HqMFSlnt-zn"
      },
      "source": [
        "**Recorer la lista**"
      ]
    },
    {
      "cell_type": "code",
      "metadata": {
        "colab": {
          "base_uri": "https://localhost:8080/"
        },
        "id": "FfBODAoTuBra",
        "outputId": "d68d8558-e2d6-4866-c91f-2f45aad3ba0a"
      },
      "source": [
        "lista_e.recorrer()"
      ],
      "execution_count": null,
      "outputs": [
        {
          "output_type": "stream",
          "text": [
            "Carne:  2018073855  Nombre:  Michelle España  email:  Micheleespana@gmail.com -->\n",
            "Carne:  201807385  Nombre:  Karen Hurtarte  email:  Karen@gmail.com -->\n",
            "Carne:  2018073857  Nombre:  Alison Silvestre  email:  Alison@gmail.com -->\n"
          ],
          "name": "stdout"
        }
      ]
    },
    {
      "cell_type": "markdown",
      "metadata": {
        "id": "0DLYYMMfwZYu"
      },
      "source": [
        "**Eliminar un nodo de la lista**"
      ]
    },
    {
      "cell_type": "code",
      "metadata": {
        "colab": {
          "base_uri": "https://localhost:8080/"
        },
        "id": "GI9DT9QBwe_H",
        "outputId": "4ada1509-d5fd-479d-b43e-c013d12200bc"
      },
      "source": [
        "lista_e.eliminar(201807385)\n",
        "lista_e.recorrer()"
      ],
      "execution_count": null,
      "outputs": [
        {
          "output_type": "stream",
          "text": [
            "Carne:  2018073855  Nombre:  Michelle España  email:  Micheleespana@gmail.com -->\n",
            "Carne:  2018073857  Nombre:  Alison Silvestre  email:  Alison@gmail.com -->\n"
          ],
          "name": "stdout"
        }
      ]
    },
    {
      "cell_type": "markdown",
      "metadata": {
        "id": "iGVBwVQ8r_Pi"
      },
      "source": [
        "**Buscar un Elemento**"
      ]
    },
    {
      "cell_type": "code",
      "metadata": {
        "colab": {
          "base_uri": "https://localhost:8080/"
        },
        "id": "t2Zq1c_zr-pc",
        "outputId": "37736afb-6294-4b6e-e6e7-f7eef8a013cb"
      },
      "source": [
        "lista_e.busqueda(2018073855)\n"
      ],
      "execution_count": null,
      "outputs": [
        {
          "output_type": "stream",
          "text": [
            "Carne:  2018073855  Nombre:  Michelle España email:  Micheleespana@gmail.com\n"
          ],
          "name": "stdout"
        }
      ]
    }
  ]
}