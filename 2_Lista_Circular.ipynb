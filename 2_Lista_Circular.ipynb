{
  "nbformat": 4,
  "nbformat_minor": 0,
  "metadata": {
    "colab": {
      "name": "2.Lista Circular.ipynb",
      "provenance": [],
      "authorship_tag": "ABX9TyPb37xWlPFFX6q5FjCodtQ+",
      "include_colab_link": true
    },
    "kernelspec": {
      "name": "python3",
      "display_name": "Python 3"
    },
    "language_info": {
      "name": "python"
    }
  },
  "cells": [
    {
      "cell_type": "markdown",
      "metadata": {
        "id": "view-in-github",
        "colab_type": "text"
      },
      "source": [
        "<a href=\"https://colab.research.google.com/github/BrandonFlorez/IPC2_2S_2021/blob/main/2_Lista_Circular.ipynb\" target=\"_parent\"><img src=\"https://colab.research.google.com/assets/colab-badge.svg\" alt=\"Open In Colab\"/></a>"
      ]
    },
    {
      "cell_type": "markdown",
      "metadata": {
        "id": "BtLYOthizhTY"
      },
      "source": [
        "\n",
        "\n",
        "##**Lista circular**\n",
        "\n"
      ]
    },
    {
      "cell_type": "code",
      "metadata": {
        "id": "BY9Z4Gn4zM7O"
      },
      "source": [
        "class estudiante: \n",
        "  def __init__(self, carne, nombre, edad, direccion, telefono, email, carrera, puesto):\n",
        "    self.carne = carne\n",
        "    self.nombre = nombre\n",
        "    self.edad = edad\n",
        "    self.direccion = direccion\n",
        "    self.telefon = telefono\n",
        "    self.email = email\n",
        "    self.carrera = carrera\n",
        "    self.puesto = puesto"
      ],
      "execution_count": 1,
      "outputs": []
    },
    {
      "cell_type": "markdown",
      "metadata": {
        "id": "2BMIeVxc1Zq_"
      },
      "source": [
        "**DEfinicion de la clase Nodo**"
      ]
    },
    {
      "cell_type": "code",
      "metadata": {
        "id": "m0GuH1l_zfIS"
      },
      "source": [
        "class nodo:\n",
        "  def __init__(self,estudiante = None, siguiente = None):\n",
        "    self.estudiante = estudiante\n",
        "    self.siguiente = siguiente"
      ],
      "execution_count": 2,
      "outputs": []
    },
    {
      "cell_type": "markdown",
      "metadata": {
        "id": "iOVcLRBb1fYZ"
      },
      "source": [
        "**Definicion de la clase Lista Circular**"
      ]
    },
    {
      "cell_type": "code",
      "metadata": {
        "id": "IHGMfKHX1iA8"
      },
      "source": [
        "class lista_circular:\n",
        "  def __init__(self):\n",
        "    self.primero =None\n",
        "\n",
        "  def insertar(self, estudiante):\n",
        "    if self.primero is None:\n",
        "      self.primero = nodo(estudiante = estudiante)\n",
        "      self.primero.siguiente = self.primero\n",
        "\n",
        "    else:\n",
        "      actual = nodo(estudiante = estudiante, siguiente = self.primero.siguiente)\n",
        "      self.primero.siguiente = actual\n",
        "\n",
        "  def recorrer(self):\n",
        "    if self.primero is None:\n",
        "      return\n",
        "    actual = self.primero\n",
        "    print('carne: ', actual.estudiante.carne, ' nombre: ', actual.estudiante.nombre, 'email: ', actual.estudiante.email, '-->')\n",
        "\n",
        "    while actual.siguiente != self.primero:\n",
        "      actual = actual.siguiente\n",
        "      print('carne: ', actual.estudiante.carne, ' nombre: ', actual.estudiante.nombre, 'email: ', actual.estudiante.email, '-->')\n",
        "\n",
        "\n",
        "  def eliminar(self, carne):\n",
        "    actual = self.primero\n",
        "    anterior = None\n",
        "\n",
        "    while actual and actual.estudiante.carne != carne:\n",
        "      anterior = actual \n",
        "      actual = actual.siguiente\n",
        "      \n",
        "      if actual.siguiente == self.primero:\n",
        "        no_encontrado = True\n",
        "        break\n",
        "    \n",
        "\n",
        "    if not no_encontrado:\n",
        "      if anterior is not None:\n",
        "        anterior.siguiente = actual.siguiente\n",
        "\n",
        "      else:\n",
        "        while actual.siguiente != self.primero:\n",
        "          actual = actual.siguiente\n",
        "\n",
        "        actual.siguiente = self.primero.siguiente\n",
        "        self.primero = self.primero.siguiente\n",
        "\n",
        "  def buscar(self,carne):\n",
        "    actual = self.primero\n",
        "    anterior = None\n",
        "\n",
        "    while actual and actual.estudiante.carne != carne:\n",
        "      anterior = actual\n",
        "      actual = actual.siguiente\n",
        "\n",
        "      if actual.siguiente == self.primero:\n",
        "        break\n",
        "\n",
        "    if actual.estudiante.carne == carne:\n",
        "        print('carne: ',actual.estudiante.carne, ' Nombre: ', actual.estudiante.nombre)\n",
        "      "
      ],
      "execution_count": 21,
      "outputs": []
    },
    {
      "cell_type": "markdown",
      "metadata": {
        "id": "kyhmO7bf9vFI"
      },
      "source": [
        "**Creación de objetos estudiante**"
      ]
    },
    {
      "cell_type": "code",
      "metadata": {
        "id": "f171RYcq9yuG"
      },
      "source": [
        "e1 = estudiante(2018073855, 'Michelle España', 24, 'Zona 2 ', 24245555, 'Micheleespaña@gmail.com', 'Ingenieria en Sistemas', 'Programadora')\n",
        "e2 = estudiante(201807385, 'Karen Hurtarte', 25, 'Zona 3 ', 159635445, 'Karen@gmail.com', 'Ingenieria en Sistemas', 'TI')\n",
        "e3 = estudiante(2018073857, 'Alison Silvestre', 23, 'Zona 1 ', 12345687, 'Alison@gmail.com', 'Ingenieria en Sistemas', 'Programadora')"
      ],
      "execution_count": 22,
      "outputs": []
    },
    {
      "cell_type": "markdown",
      "metadata": {
        "id": "Ps48-xbf99xx"
      },
      "source": [
        "**Inserción**"
      ]
    },
    {
      "cell_type": "code",
      "metadata": {
        "id": "Lc6pxXkq9_8F"
      },
      "source": [
        "lista_c = lista_circular()\n",
        "\n",
        "lista_c.insertar(e1)\n",
        "lista_c.insertar(e2)\n",
        "lista_c.insertar(e3)"
      ],
      "execution_count": 23,
      "outputs": []
    },
    {
      "cell_type": "markdown",
      "metadata": {
        "id": "uBao9u9K-NtS"
      },
      "source": [
        "**Recorrer la lista**"
      ]
    },
    {
      "cell_type": "code",
      "metadata": {
        "colab": {
          "base_uri": "https://localhost:8080/"
        },
        "id": "vBDn7-Aw-Pmk",
        "outputId": "935ddb45-eb33-480d-e9e1-a1f46d126cc6"
      },
      "source": [
        "lista_c.recorrer()"
      ],
      "execution_count": 24,
      "outputs": [
        {
          "output_type": "stream",
          "text": [
            "carne:  2018073855  nombre:  Michelle España email:  Micheleespaña@gmail.com -->\n",
            "carne:  2018073857  nombre:  Alison Silvestre email:  Alison@gmail.com -->\n",
            "carne:  201807385  nombre:  Karen Hurtarte email:  Karen@gmail.com -->\n"
          ],
          "name": "stdout"
        }
      ]
    },
    {
      "cell_type": "markdown",
      "metadata": {
        "id": "sq9lKWh-rvho"
      },
      "source": [
        "**Eliminar un nodo de la lista**"
      ]
    },
    {
      "cell_type": "code",
      "metadata": {
        "colab": {
          "base_uri": "https://localhost:8080/"
        },
        "id": "NQlEsu1rryXo",
        "outputId": "c537203d-7ca9-48a2-92b7-9b12d04608eb"
      },
      "source": [
        "lista_c.eliminar(20180738551)\n",
        "lista_c.recorrer()"
      ],
      "execution_count": null,
      "outputs": [
        {
          "output_type": "stream",
          "text": [
            "carne:  2018073855  nombre:  Michelle España email:  Micheleespaña@gmail.com -->\n",
            "carne:  2018073857  nombre:  Alison Silvestre email:  Alison@gmail.com -->\n",
            "carne:  201807385  nombre:  Karen Hurtarte email:  Karen@gmail.com -->\n"
          ],
          "name": "stdout"
        }
      ]
    },
    {
      "cell_type": "markdown",
      "metadata": {
        "id": "tWGLuw-jzT_T"
      },
      "source": [
        "**Buscar elemento en lista**"
      ]
    },
    {
      "cell_type": "code",
      "metadata": {
        "colab": {
          "base_uri": "https://localhost:8080/"
        },
        "id": "hUs30QsvzWtZ",
        "outputId": "15125299-b32c-4ea4-eff4-57d772f231bf"
      },
      "source": [
        "lista_c.buscar(2018073855)"
      ],
      "execution_count": 26,
      "outputs": [
        {
          "output_type": "stream",
          "text": [
            "carne:  2018073855  Nombre:  Michelle España\n"
          ],
          "name": "stdout"
        }
      ]
    }
  ]
}